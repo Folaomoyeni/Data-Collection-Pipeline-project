{
  "nbformat": 4,
  "nbformat_minor": 0,
  "metadata": {
    "colab": {
      "name": "Data Pipeline Project",
      "provenance": [],
      "toc_visible": true,
      "authorship_tag": "ABX9TyOYwG5B4JxhhQNrE0lOh+RL",
      "include_colab_link": true
    },
    "kernelspec": {
      "name": "python3",
      "display_name": "Python 3"
    },
    "language_info": {
      "name": "python"
    }
  },
  "cells": [
    {
      "cell_type": "markdown",
      "metadata": {
        "id": "view-in-github",
        "colab_type": "text"
      },
      "source": [
        "<a href=\"https://colab.research.google.com/github/Folaomoyeni/Data-Collection-Pipeline-project/blob/main/Data_Pipeline_Project.ipynb\" target=\"_parent\"><img src=\"https://colab.research.google.com/assets/colab-badge.svg\" alt=\"Open In Colab\"/></a>"
      ]
    },
    {
      "cell_type": "code",
      "execution_count": null,
      "metadata": {
        "id": "_9Xpx6tnYOcH"
      },
      "outputs": [],
      "source": [
        ""
      ]
    },
    {
      "cell_type": "markdown",
      "source": [
        "# General: Setting up environment"
      ],
      "metadata": {
        "id": "UhPHpi3vaHC7"
      }
    },
    {
      "cell_type": "markdown",
      "source": [
        "1) Understand how to use Selenium and webdriver for chrome (or whichever browser)\n",
        "\n",
        "2) Create environment:"
      ],
      "metadata": {
        "id": "h2-RfjZ4YqEs"
      }
    },
    {
      "cell_type": "code",
      "source": [
        "conda create -n <environment_name>\n",
        "\n",
        "conda install pip"
      ],
      "metadata": {
        "id": "M147sbBJY-cu"
      },
      "execution_count": null,
      "outputs": []
    },
    {
      "cell_type": "markdown",
      "source": [
        "3) New python file called '__init__.py\n",
        "\n",
        "4) New python file called 'setup.py' (ensure both files are in the right folder)\n",
        "\n",
        "5) in 'setup.py' file, insert the following code (edit for each project)\n"
      ],
      "metadata": {
        "id": "__N2KHUfZONY"
      }
    },
    {
      "cell_type": "code",
      "source": [
        "from setuptools import setup, find_packages\n",
        "\n",
        "setup(name='data_pipeline',\n",
        "       version='1.0',\n",
        "       packages = find_packages(),\n",
        "        install_requires=[\n",
        "            'selenium',\n",
        "            'webdriver_manager',\n",
        "         ])"
      ],
      "metadata": {
        "id": "5pE-DkZdZ2WS"
      },
      "execution_count": null,
      "outputs": []
    },
    {
      "cell_type": "markdown",
      "source": [
        "# Github Repo"
      ],
      "metadata": {
        "id": "IQ5q_ZIhaDWl"
      }
    },
    {
      "cell_type": "markdown",
      "source": [
        "1) Create new repo on Github - can push from VS or start from Github"
      ],
      "metadata": {
        "id": "ycK29B0Xat3g"
      }
    },
    {
      "cell_type": "code",
      "source": [
        "git init\n",
        "git remote add origin <link from your github>\n",
        "git branch -M main\n",
        "git push -u origin main"
      ],
      "metadata": {
        "id": "49m2O2zFhspC"
      },
      "execution_count": null,
      "outputs": []
    },
    {
      "cell_type": "markdown",
      "source": [
        "Above code to be used to push repo from the command line.\n",
        "\n",
        "To troubleshoot, if it doesn't work initially/ first commit:"
      ],
      "metadata": {
        "id": "7a3-wt1siATA"
      }
    },
    {
      "cell_type": "code",
      "source": [
        "echo \"# Data-Collection-Pipeline-project\" >> README.md\n",
        "git init\n",
        "git add README.md\n",
        "git commit -m \"first commit\"\n",
        "git branch -M main\n",
        "git remote add origin <link from your github>\n",
        "git push -u origin main"
      ],
      "metadata": {
        "id": "igOllHBMjK5Q"
      },
      "execution_count": null,
      "outputs": []
    },
    {
      "cell_type": "markdown",
      "source": [
        "# Creating Scraper Class"
      ],
      "metadata": {
        "id": "SDyE_rV6oT9z"
      }
    },
    {
      "cell_type": "markdown",
      "source": [
        "1) Create a python file called 'scraper' and import all the necessary libraries. In this case, it was the following:"
      ],
      "metadata": {
        "id": "SAUlYSDaocAo"
      }
    },
    {
      "cell_type": "code",
      "source": [
        "from selenium import webdriver\n",
        "from selenium.webdriver.common.keys import Keys\n",
        "from selenium.webdriver.common.by import By\n",
        "from selenium.webdriver.support.ui import WebDriverWait\n",
        "from selenium.webdriver.support import expected_conditions as EC\n",
        "from selenium.webdriver.common.action_chains import ActionChains\n",
        "from webdriver_manager.chrome import ChromeDriverManager\n",
        "import time"
      ],
      "metadata": {
        "id": "3KZGfKERoahl"
      },
      "execution_count": null,
      "outputs": []
    },
    {
      "cell_type": "markdown",
      "source": [
        "At this point, it willl be obvious if you are in the right environment/set up was done properly as there shouldn't be errors with any of the imports.\n",
        "\n",
        "Then create the class. It is important to write it in such a way that it can be used generally as opposed to being used for only 1 website. For example, instead of:"
      ],
      "metadata": {
        "id": "otbF80OWoqez"
      }
    },
    {
      "cell_type": "code",
      "source": [
        "class Scraper:\n",
        "    def __init__(self):\n",
        "        driver = webdriver.Chrome(ChromeDriverManager().install())\n",
        "        driver.get(<'website string here>')"
      ],
      "metadata": {
        "id": "dLFcHxq0pZJ1"
      },
      "execution_count": null,
      "outputs": []
    },
    {
      "cell_type": "markdown",
      "source": [
        "We can insert the URL as an argument instead as follows"
      ],
      "metadata": {
        "id": "JFFJHEpfpmk_"
      }
    },
    {
      "cell_type": "code",
      "source": [
        "class Scraper:\n",
        "    def __init__(self, url: str = '<website string here>' ):\n",
        "        driver = webdriver.Chrome(ChromeDriverManager().install())\n",
        "        driver.get(url)"
      ],
      "metadata": {
        "id": "9a4kYYYYo7bC"
      },
      "execution_count": null,
      "outputs": []
    },
    {
      "cell_type": "markdown",
      "source": [
        "This allows us and other users to use the pre-existing code as opposed to building a whole new one for each URL. "
      ],
      "metadata": {
        "id": "Dn2xVN1lsZc-"
      }
    },
    {
      "cell_type": "markdown",
      "source": [
        "# Using the Scraper"
      ],
      "metadata": {
        "id": "9oLu2deysoZX"
      }
    },
    {
      "cell_type": "markdown",
      "source": [
        "Once the Scraper has been completed (and saved!), create a new python file called 'main' and call on the scraper:"
      ],
      "metadata": {
        "id": "_CKWXmgVsuGv"
      }
    },
    {
      "cell_type": "code",
      "source": [
        "from scraper import Scraper #from the previous file we made\n",
        "import time #so we actually se the page\n",
        "\n",
        "if __name__ == '__main__':\n",
        "    bot = Scraper() #calls scraper\n",
        "    time.sleep(8) #8 second delay before webpage closes"
      ],
      "metadata": {
        "id": "jPx9X-W5tzKW"
      },
      "execution_count": null,
      "outputs": []
    },
    {
      "cell_type": "markdown",
      "source": [
        ""
      ],
      "metadata": {
        "id": "4KLr8UpJzXHT"
      }
    },
    {
      "cell_type": "markdown",
      "source": [
        "# Accepting Cookies "
      ],
      "metadata": {
        "id": "8j3YzlOY6vDt"
      }
    },
    {
      "cell_type": "markdown",
      "source": [
        "So that cookies can be accepted, in the scraper file add a new function to the class - if button is not in frame.:"
      ],
      "metadata": {
        "id": "breZDIvx61yD"
      }
    },
    {
      "cell_type": "code",
      "source": [
        "accept_cookies = self.driver.find_element(By.XPATH, '<xpath button for consent/other>')\n",
        "accept_cookies.click()"
      ],
      "metadata": {
        "id": "yb4wJ47j65-q"
      },
      "execution_count": null,
      "outputs": []
    },
    {
      "cell_type": "markdown",
      "source": [
        "If consent/not consent is in a frame:"
      ],
      "metadata": {
        "id": "rt-PRBdU7RQS"
      }
    },
    {
      "cell_type": "code",
      "source": [
        "driver.switch_to_frame('<frame id>') # This is the id of the frame - don't include 'id'\n",
        "    accept_cookies_button = driver.find_element(by=By.XPATH, value='<path>')\n",
        "    accept_cookies_button.click()"
      ],
      "metadata": {
        "id": "ebVgnKWS7VJ7"
      },
      "execution_count": null,
      "outputs": []
    }
  ]
}